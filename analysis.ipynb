{
 "cells": [
  {
   "cell_type": "code",
   "execution_count": 1,
   "metadata": {},
   "outputs": [],
   "source": [
    "import csv\n",
    "import sys\n",
    "import pandas as pd\n",
    "import numpy as np\n",
    "import seaborn as sns\n",
    "import matplotlib.pyplot as plt\n",
    "import math"
   ]
  },
  {
   "cell_type": "code",
   "execution_count": 2,
   "metadata": {},
   "outputs": [],
   "source": [
    "sns.set_style(\"whitegrid\")"
   ]
  },
  {
   "cell_type": "code",
   "execution_count": 3,
   "metadata": {},
   "outputs": [],
   "source": [
    "data = pd.read_csv(\"Final Project Data.csv\")"
   ]
  },
  {
   "cell_type": "code",
   "execution_count": 4,
   "metadata": {},
   "outputs": [],
   "source": [
    "# drop columns that are not needed \n",
    "data = data.drop(columns=['Email Address', 'Species'])"
   ]
  },
  {
   "cell_type": "code",
   "execution_count": 5,
   "metadata": {},
   "outputs": [],
   "source": [
    "data[['Date', 'Time']] = data['Timestamp'].str.split(' ', expand=True)"
   ]
  },
  {
   "cell_type": "code",
   "execution_count": 6,
   "metadata": {},
   "outputs": [
    {
     "data": {
      "text/html": [
       "<div>\n",
       "<style scoped>\n",
       "    .dataframe tbody tr th:only-of-type {\n",
       "        vertical-align: middle;\n",
       "    }\n",
       "\n",
       "    .dataframe tbody tr th {\n",
       "        vertical-align: top;\n",
       "    }\n",
       "\n",
       "    .dataframe thead th {\n",
       "        text-align: right;\n",
       "    }\n",
       "</style>\n",
       "<table border=\"1\" class=\"dataframe\">\n",
       "  <thead>\n",
       "    <tr style=\"text-align: right;\">\n",
       "      <th></th>\n",
       "      <th>Timestamp</th>\n",
       "      <th>Animal</th>\n",
       "      <th># of people interacting</th>\n",
       "      <th>Animal Position</th>\n",
       "      <th>Guest Interaction</th>\n",
       "      <th>Guest Demographics</th>\n",
       "      <th>Interaction Length</th>\n",
       "      <th>Assumed Emotion</th>\n",
       "      <th>Additional notes</th>\n",
       "      <th>Date</th>\n",
       "      <th>Time</th>\n",
       "    </tr>\n",
       "  </thead>\n",
       "  <tbody>\n",
       "    <tr>\n",
       "      <th>0</th>\n",
       "      <td>5/31/2025 14:28:49</td>\n",
       "      <td>reptile 1</td>\n",
       "      <td>3</td>\n",
       "      <td>Not moving (snake)</td>\n",
       "      <td>Observing animal behavior, Looking for animal ...</td>\n",
       "      <td>Family w/o kids</td>\n",
       "      <td>00:28</td>\n",
       "      <td>Neutral</td>\n",
       "      <td>NaN</td>\n",
       "      <td>5/31/2025</td>\n",
       "      <td>14:28:49</td>\n",
       "    </tr>\n",
       "    <tr>\n",
       "      <th>1</th>\n",
       "      <td>5/31/2025 14:29:17</td>\n",
       "      <td>reptile 1</td>\n",
       "      <td>3</td>\n",
       "      <td>Not moving (snake)</td>\n",
       "      <td>Observing animal behavior, Looking for animal ...</td>\n",
       "      <td>Friends</td>\n",
       "      <td>42</td>\n",
       "      <td>Excitment</td>\n",
       "      <td>NaN</td>\n",
       "      <td>5/31/2025</td>\n",
       "      <td>14:29:17</td>\n",
       "    </tr>\n",
       "    <tr>\n",
       "      <th>2</th>\n",
       "      <td>5/31/2025 14:29:51</td>\n",
       "      <td>reptile 1</td>\n",
       "      <td>2</td>\n",
       "      <td>Not moving (snake)</td>\n",
       "      <td>Observing animal behavior, Looking for animal ...</td>\n",
       "      <td>Family w/ kids</td>\n",
       "      <td>00:23</td>\n",
       "      <td>Excitment</td>\n",
       "      <td>NaN</td>\n",
       "      <td>5/31/2025</td>\n",
       "      <td>14:29:51</td>\n",
       "    </tr>\n",
       "    <tr>\n",
       "      <th>3</th>\n",
       "      <td>5/31/2025 14:31:13</td>\n",
       "      <td>reptile 1</td>\n",
       "      <td>2</td>\n",
       "      <td>Not moving (snake)</td>\n",
       "      <td>Observing animal behavior, Looking for animal ...</td>\n",
       "      <td>Friends</td>\n",
       "      <td>01:18</td>\n",
       "      <td>Neutral</td>\n",
       "      <td>NaN</td>\n",
       "      <td>5/31/2025</td>\n",
       "      <td>14:31:13</td>\n",
       "    </tr>\n",
       "    <tr>\n",
       "      <th>4</th>\n",
       "      <td>5/31/2025 14:31:50</td>\n",
       "      <td>reptile 1</td>\n",
       "      <td>2</td>\n",
       "      <td>Not moving (snake)</td>\n",
       "      <td>Observing animal behavior, Looking for animal ...</td>\n",
       "      <td>Couple</td>\n",
       "      <td>00:33</td>\n",
       "      <td>Neutral</td>\n",
       "      <td>NaN</td>\n",
       "      <td>5/31/2025</td>\n",
       "      <td>14:31:50</td>\n",
       "    </tr>\n",
       "  </tbody>\n",
       "</table>\n",
       "</div>"
      ],
      "text/plain": [
       "            Timestamp     Animal # of people interacting     Animal Position  \\\n",
       "0  5/31/2025 14:28:49  reptile 1                       3  Not moving (snake)   \n",
       "1  5/31/2025 14:29:17  reptile 1                       3  Not moving (snake)   \n",
       "2  5/31/2025 14:29:51  reptile 1                       2  Not moving (snake)   \n",
       "3  5/31/2025 14:31:13  reptile 1                       2  Not moving (snake)   \n",
       "4  5/31/2025 14:31:50  reptile 1                       2  Not moving (snake)   \n",
       "\n",
       "                                   Guest Interaction Guest Demographics  \\\n",
       "0  Observing animal behavior, Looking for animal ...    Family w/o kids   \n",
       "1  Observing animal behavior, Looking for animal ...            Friends   \n",
       "2  Observing animal behavior, Looking for animal ...     Family w/ kids   \n",
       "3  Observing animal behavior, Looking for animal ...            Friends   \n",
       "4  Observing animal behavior, Looking for animal ...             Couple   \n",
       "\n",
       "  Interaction Length Assumed Emotion Additional notes       Date      Time  \n",
       "0              00:28         Neutral              NaN  5/31/2025  14:28:49  \n",
       "1                 42       Excitment              NaN  5/31/2025  14:29:17  \n",
       "2              00:23       Excitment              NaN  5/31/2025  14:29:51  \n",
       "3              01:18         Neutral              NaN  5/31/2025  14:31:13  \n",
       "4              00:33         Neutral              NaN  5/31/2025  14:31:50  "
      ]
     },
     "execution_count": 6,
     "metadata": {},
     "output_type": "execute_result"
    }
   ],
   "source": [
    "data.head()"
   ]
  },
  {
   "cell_type": "code",
   "execution_count": 7,
   "metadata": {},
   "outputs": [
    {
     "data": {
      "text/plain": [
       "<Figure size 1400x600 with 0 Axes>"
      ]
     },
     "execution_count": 7,
     "metadata": {},
     "output_type": "execute_result"
    },
    {
     "data": {
      "text/plain": [
       "<Figure size 1400x600 with 0 Axes>"
      ]
     },
     "metadata": {},
     "output_type": "display_data"
    }
   ],
   "source": [
    "plt.figure(figsize=(14, 6))"
   ]
  },
  {
   "cell_type": "code",
   "execution_count": 12,
   "metadata": {},
   "outputs": [
    {
     "data": {
      "text/html": [
       "<div>\n",
       "<style scoped>\n",
       "    .dataframe tbody tr th:only-of-type {\n",
       "        vertical-align: middle;\n",
       "    }\n",
       "\n",
       "    .dataframe tbody tr th {\n",
       "        vertical-align: top;\n",
       "    }\n",
       "\n",
       "    .dataframe thead th {\n",
       "        text-align: right;\n",
       "    }\n",
       "</style>\n",
       "<table border=\"1\" class=\"dataframe\">\n",
       "  <thead>\n",
       "    <tr style=\"text-align: right;\">\n",
       "      <th></th>\n",
       "      <th>Timestamp</th>\n",
       "      <th>Animal</th>\n",
       "      <th># of people interacting</th>\n",
       "      <th>Animal Position</th>\n",
       "      <th>Guest Interaction</th>\n",
       "      <th>Guest Demographics</th>\n",
       "      <th>Interaction Length</th>\n",
       "      <th>Assumed Emotion</th>\n",
       "      <th>Additional notes</th>\n",
       "      <th>Date</th>\n",
       "      <th>Time</th>\n",
       "    </tr>\n",
       "  </thead>\n",
       "  <tbody>\n",
       "    <tr>\n",
       "      <th>count</th>\n",
       "      <td>154</td>\n",
       "      <td>154</td>\n",
       "      <td>154</td>\n",
       "      <td>153</td>\n",
       "      <td>154</td>\n",
       "      <td>154</td>\n",
       "      <td>154</td>\n",
       "      <td>154</td>\n",
       "      <td>17</td>\n",
       "      <td>154</td>\n",
       "      <td>154</td>\n",
       "    </tr>\n",
       "    <tr>\n",
       "      <th>unique</th>\n",
       "      <td>154</td>\n",
       "      <td>9</td>\n",
       "      <td>5</td>\n",
       "      <td>26</td>\n",
       "      <td>23</td>\n",
       "      <td>5</td>\n",
       "      <td>69</td>\n",
       "      <td>3</td>\n",
       "      <td>17</td>\n",
       "      <td>3</td>\n",
       "      <td>154</td>\n",
       "    </tr>\n",
       "    <tr>\n",
       "      <th>top</th>\n",
       "      <td>5/31/2025 14:28:49</td>\n",
       "      <td>reptile 2</td>\n",
       "      <td>2</td>\n",
       "      <td>Sleeping (reptile, monkey, bear)</td>\n",
       "      <td>Observing animal behavior, Pointing at animal</td>\n",
       "      <td>Family w/ kids</td>\n",
       "      <td>00:15</td>\n",
       "      <td>Neutral</td>\n",
       "      <td>Other person in couple even looking often seem...</td>\n",
       "      <td>5/31/2025</td>\n",
       "      <td>14:28:49</td>\n",
       "    </tr>\n",
       "    <tr>\n",
       "      <th>freq</th>\n",
       "      <td>1</td>\n",
       "      <td>30</td>\n",
       "      <td>79</td>\n",
       "      <td>42</td>\n",
       "      <td>41</td>\n",
       "      <td>58</td>\n",
       "      <td>7</td>\n",
       "      <td>124</td>\n",
       "      <td>1</td>\n",
       "      <td>67</td>\n",
       "      <td>1</td>\n",
       "    </tr>\n",
       "  </tbody>\n",
       "</table>\n",
       "</div>"
      ],
      "text/plain": [
       "                 Timestamp     Animal # of people interacting  \\\n",
       "count                  154        154                     154   \n",
       "unique                 154          9                       5   \n",
       "top     5/31/2025 14:28:49  reptile 2                       2   \n",
       "freq                     1         30                      79   \n",
       "\n",
       "                         Animal Position  \\\n",
       "count                                153   \n",
       "unique                                26   \n",
       "top     Sleeping (reptile, monkey, bear)   \n",
       "freq                                  42   \n",
       "\n",
       "                                    Guest Interaction Guest Demographics  \\\n",
       "count                                             154                154   \n",
       "unique                                             23                  5   \n",
       "top     Observing animal behavior, Pointing at animal     Family w/ kids   \n",
       "freq                                               41                 58   \n",
       "\n",
       "       Interaction Length Assumed Emotion  \\\n",
       "count                 154             154   \n",
       "unique                 69               3   \n",
       "top                 00:15         Neutral   \n",
       "freq                    7             124   \n",
       "\n",
       "                                         Additional notes       Date      Time  \n",
       "count                                                  17        154       154  \n",
       "unique                                                 17          3       154  \n",
       "top     Other person in couple even looking often seem...  5/31/2025  14:28:49  \n",
       "freq                                                    1         67         1  "
      ]
     },
     "execution_count": 12,
     "metadata": {},
     "output_type": "execute_result"
    }
   ],
   "source": [
    "data.describe()"
   ]
  },
  {
   "cell_type": "code",
   "execution_count": 11,
   "metadata": {},
   "outputs": [
    {
     "name": "stderr",
     "output_type": "stream",
     "text": [
      "/var/folders/15/tbb712t548vcwk6rxth7tk0h0000gn/T/ipykernel_56349/1653743573.py:4: FutureWarning: \n",
      "\n",
      "Passing `palette` without assigning `hue` is deprecated and will be removed in v0.14.0. Assign the `x` variable to `hue` and set `legend=False` for the same effect.\n",
      "\n",
      "  ax = sns.countplot(data, x=\"Animal\",\n"
     ]
    },
    {
     "data": {
      "image/png": "[encoded data removed]",
      "text/plain": [
       "<Figure size 640x480 with 1 Axes>"
      ]
     },
     "metadata": {},
     "output_type": "display_data"
    }
   ],
   "source": [
    "custom_palette = {\"bear 1\": \"#90E0EF\", \"bear 2\": \"#0096C7\", \"bear 3\": \"#0077B6\", \n",
    "                  \"reptile 1\": \"#90EE90\", \"reptile 2\": \"#299617\", \"reptile 3\": \"#005C29\", \n",
    "                  \"monkey 1\": \"#BA98C4\", \"monkey 2\": \"#9059A1\", \"monkey 3\": \"#743089\"}\n",
    "ax = sns.countplot(data, x=\"Animal\", \n",
    "                   order=data['Animal'].sort_values(),\n",
    "                   palette=custom_palette)\n",
    "\n",
    "plt.xlabel(\"Species\")\n",
    "plt.ylabel(\"Count\")\n",
    "\n",
    "plt.tick_params(labelsize=8)\n",
    "\n",
    "# Add percentages and counts to the bars\n",
    "total = len(data)\n",
    "for p in ax.patches:\n",
    "    height = p.get_height()\n",
    "    percentage = height / total * 100\n",
    "    ax.annotate(f'{math.floor(height)} ({percentage:.1f}%)', (p.get_x() + p.get_width() / 2, height), ha='center', va='center', xytext=(0, 5), textcoords='offset points')\n",
    "\n",
    "plt.show()"
   ]
  }
 ],
 "metadata": {
  "kernelspec": {
   "display_name": "base",
   "language": "python",
   "name": "python3"
  },
  "language_info": {
   "codemirror_mode": {
    "name": "ipython",
    "version": 3
   },
   "file_extension": ".py",
   "mimetype": "text/x-python",
   "name": "python",
   "nbconvert_exporter": "python",
   "pygments_lexer": "ipython3",
   "version": "3.12.4"
  }
 },
 "nbformat": 4,
 "nbformat_minor": 2
}
